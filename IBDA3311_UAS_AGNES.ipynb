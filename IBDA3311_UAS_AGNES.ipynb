{
 "cells": [
  {
   "cell_type": "markdown",
   "metadata": {},
   "source": [
    "# IBDA3311 Proyek UAS - Mental Health Chatbot AGNES\n",
    "1. Justin Habel Kiswanto (212100103)\n",
    "2. Kenji Yascentius (212100311)\n",
    "3. Maleakhi Ezekiel (212001298)\n",
    "4. Tatiana Clarissa Jolie Pomatouw (212100674)"
   ]
  },
  {
   "cell_type": "markdown",
   "metadata": {},
   "source": [
    "# Library yang digunakan"
   ]
  },
  {
   "cell_type": "code",
   "execution_count": 10,
   "metadata": {},
   "outputs": [],
   "source": [
    "from openai import OpenAI\n",
    "import os\n",
    "import asyncio\n",
    "import speech_recognition as sr\n",
    "import elevenlabs\n",
    "from elevenlabs import generate  \n",
    "import re"
   ]
  },
  {
   "cell_type": "markdown",
   "metadata": {},
   "source": [
    "# Initialize API"
   ]
  },
  {
   "cell_type": "code",
   "execution_count": 11,
   "metadata": {},
   "outputs": [],
   "source": [
    "# mohon maaf kami tidak dapat memberikan API key karena ini terhubung dengan akun API berbayar kami\n",
    "elevenlabs.set_api_key(\"...\")\n",
    "client = OpenAI(api_key=\"...\")"
   ]
  },
  {
   "cell_type": "markdown",
   "metadata": {},
   "source": [
    "### Dengan Fine tuning"
   ]
  },
  {
   "cell_type": "code",
   "execution_count": null,
   "metadata": {},
   "outputs": [],
   "source": [
    "# Initialize conversation with persona\n",
    "conversation_history = [{\"role\": \"system\", \"content\": \"A nice and warm psychologist.\"}]\n",
    "\n",
    "# Keywords\n",
    "time_keywords = ['time', 'clock', 'hour', 'minute', 'second', 'day', 'date', 'current time']\n",
    "\n",
    "def recognize_speech():\n",
    "    # Initialize the recognizer\n",
    "    recognizer = sr.Recognizer()\n",
    "\n",
    "    with sr.Microphone() as source:\n",
    "        try:\n",
    "            # Adjust for ambient noise\n",
    "            recognizer.adjust_for_ambient_noise(source)\n",
    "\n",
    "            # Capture the audio from the microphone\n",
    "            audio = recognizer.listen(source, timeout=5, phrase_time_limit=5)\n",
    "\n",
    "            # Recognize speech using Google Speech Recognition\n",
    "            text = recognizer.recognize_google(audio)\n",
    "\n",
    "            # Return the result\n",
    "            return text\n",
    "\n",
    "        except sr.UnknownValueError:\n",
    "            # Handle the case when nothing is recognized\n",
    "            print(\"Agnes is listening\")\n",
    "\n",
    "        except sr.RequestError as e:\n",
    "            print(f\"Could not request results from Google Speech Recognition service; {e}\")\n",
    "\n",
    "# Start conversation loop\n",
    "while True:\n",
    "    # Get user input using speech recognition\n",
    "    user_input = recognize_speech()\n",
    "    #user_input = input(\"You: \")\n",
    "    if user_input is not None:\n",
    "        print(\"You:\", user_input)\n",
    "\n",
    "        # Add user's input to conversation history\n",
    "        conversation_history.append({\"role\": \"user\", \"content\": user_input})\n",
    "\n",
    "        # Create completion with the updated conversation history\n",
    "        completion = client.chat.completions.create(\n",
    "            # mohon maaf kami tidak dapat memberikan model id karena ini terhubung dengan API berbayar kami\n",
    "            model=\"ft:gpt-3.5-turbo-1106:personal::...\",\n",
    "            messages=conversation_history,\n",
    "            temperature=0.,\n",
    "        )\n",
    "\n",
    "        # Get the assistant's response\n",
    "        assistant_response = completion.choices[0].message.content\n",
    "\n",
    "        # sentences = re.split(pattern, assistant_response)\n",
    "        #sentences = [sentence.strip() for sentence in sentences if sentence.strip()]\n",
    "        print(\"Agnes:\", assistant_response)\n",
    "        # print(sentences)\n",
    "        # for sentence in sentences:\n",
    "        audio = generate(assistant_response, voice = \"Emu\", model = \"eleven_turbo_v2\")\n",
    "        elevenlabs.play(audio)\n",
    "\n",
    "        # Add assistant's response to conversation history\n",
    "        conversation_history.append({\"role\": \"assistant\", \"content\": assistant_response})\n",
    "\n",
    "        # Remove excess entries to avoid personality persistence\n",
    "        if any(keyword in user_input.lower() for keyword in time_keywords):\n",
    "            print(\"Time deactivated\")\n",
    "            conversation_history = conversation_history[:-2]\n",
    "\n",
    "        #print(conversation_history)"
   ]
  },
  {
   "cell_type": "markdown",
   "metadata": {},
   "source": [
    "### Dengan Menggunakan Persona"
   ]
  },
  {
   "cell_type": "code",
   "execution_count": null,
   "metadata": {},
   "outputs": [],
   "source": [
    "# Persona\n",
    "with open('persona.txt', 'r') as file:\n",
    "    persona = file.read()\n",
    "\n",
    "# Initialize conversation with persona\n",
    "conversation_history = [{\"role\": \"system\", \"content\": persona}]\n",
    "\n",
    "# Keywords\n",
    "weather_keywords = ['weather', 'moon phase', 'sun rise', 'temperature', 'temp', 'forecast']\n",
    "time_keywords = ['time', 'clock', 'hour', 'minute', 'second', 'day', 'date', 'current time']\n",
    "\n",
    "def recognize_speech():\n",
    "    # Initialize the recognizer\n",
    "    recognizer = sr.Recognizer()\n",
    "\n",
    "    with sr.Microphone() as source:\n",
    "        try:\n",
    "            # Adjust for ambient noise\n",
    "            recognizer.adjust_for_ambient_noise(source)\n",
    "\n",
    "            # Capture the audio from the microphone\n",
    "            audio = recognizer.listen(source, timeout=5, phrase_time_limit=5)\n",
    "\n",
    "            # Recognize speech using Google Speech Recognition\n",
    "            text = recognizer.recognize_google(audio)\n",
    "\n",
    "            # Return the result\n",
    "            return text\n",
    "\n",
    "        except sr.UnknownValueError:\n",
    "            # Handle the case when nothing is recognized\n",
    "            print(\"Agnes is listening\")\n",
    "\n",
    "        except sr.RequestError as e:\n",
    "            print(f\"Could not request results from Google Speech Recognition service; {e}\")\n",
    "\n",
    "# Start conversation loop\n",
    "while True:\n",
    "    # Get user input using speech recognition\n",
    "    user_input = recognize_speech()\n",
    "    #user_input = input(\"You: \")\n",
    "    if user_input is not None:\n",
    "        print(\"You:\", user_input)\n",
    "\n",
    "        # Add user's input to conversation history\n",
    "        conversation_history.append({\"role\": \"user\", \"content\": user_input})\n",
    "\n",
    "        # Create completion with the updated conversation history\n",
    "        completion = client.chat.completions.create(\n",
    "            model=\"gpt-3.5-turbo-1106\",\n",
    "            messages=conversation_history\n",
    "        )\n",
    "\n",
    "        # Get the assistant's response\n",
    "        assistant_response = completion.choices[0].message.content\n",
    "\n",
    "        # sentences = re.split(pattern, assistant_response)\n",
    "        #sentences = [sentence.strip() for sentence in sentences if sentence.strip()]\n",
    "        print(\"Agnes:\", assistant_response)\n",
    "        # print(sentences)\n",
    "        # for sentence in sentences:\n",
    "        audio = generate(assistant_response, voice = \"Emu\", model = \"eleven_turbo_v2\")\n",
    "            \n",
    "        elevenlabs.play(audio)\n",
    "\n",
    "        # Add assistant's response to conversation history\n",
    "        conversation_history.append({\"role\": \"assistant\", \"content\": assistant_response})\n",
    "\n",
    "        # Remove excess entries to avoid personality persistence\n",
    "        if any(keyword in user_input.lower() for keyword in time_keywords):\n",
    "            print(\"Time deactivated\")\n",
    "            conversation_history = conversation_history[:-2]\n",
    "\n",
    "        #print(conversation_history)"
   ]
  },
  {
   "cell_type": "markdown",
   "metadata": {},
   "source": [
    "## Komitmen Integritas\n",
    "\n",
    "“Di hadapan TUHAN yang hidup, saya menegaskan bahwa saya tidak memberikan\n",
    "maupun menerima bantuan apapun—baik lisan, tulisan, maupun elektronik—di dalam\n",
    "ujian ini selain daripada apa yang telah diizinkan oleh pengajar, dan tidak akan\n",
    "menyebarkan baik soal maupun jawaban ujian kepada pihak lain.”"
   ]
  }
 ],
 "metadata": {
  "kernelspec": {
   "display_name": "Python 3",
   "language": "python",
   "name": "python3"
  },
  "language_info": {
   "codemirror_mode": {
    "name": "ipython",
    "version": 3
   },
   "file_extension": ".py",
   "mimetype": "text/x-python",
   "name": "python",
   "nbconvert_exporter": "python",
   "pygments_lexer": "ipython3",
   "version": "3.11.1"
  }
 },
 "nbformat": 4,
 "nbformat_minor": 2
}
